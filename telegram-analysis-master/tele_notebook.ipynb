{
 "cells": [
  {
   "cell_type": "code",
   "execution_count": 2,
   "metadata": {},
   "outputs": [
    {
     "ename": "RuntimeError",
     "evalue": "You must use \"async with\" if the event loop is running (i.e. you are inside an \"async def\")",
     "output_type": "error",
     "traceback": [
      "\u001b[1;31m---------------------------------------------------------------------------\u001b[0m",
      "\u001b[1;31mRuntimeError\u001b[0m                              Traceback (most recent call last)",
      "\u001b[1;32m<ipython-input-2-6c463d64b815>\u001b[0m in \u001b[0;36m<module>\u001b[1;34m\u001b[0m\n\u001b[0;32m    169\u001b[0m \u001b[1;33m\u001b[0m\u001b[0m\n\u001b[0;32m    170\u001b[0m \u001b[1;31m####################################################################################\u001b[0m\u001b[1;33m\u001b[0m\u001b[1;33m\u001b[0m\u001b[1;33m\u001b[0m\u001b[0m\n\u001b[1;32m--> 171\u001b[1;33m \u001b[1;32mwith\u001b[0m \u001b[0mclient\u001b[0m\u001b[1;33m:\u001b[0m\u001b[1;33m\u001b[0m\u001b[1;33m\u001b[0m\u001b[0m\n\u001b[0m\u001b[0;32m    172\u001b[0m     \u001b[0meverymess\u001b[0m \u001b[1;33m=\u001b[0m \u001b[0mclient\u001b[0m\u001b[1;33m.\u001b[0m\u001b[0mloop\u001b[0m\u001b[1;33m.\u001b[0m\u001b[0mrun_until_complete\u001b[0m\u001b[1;33m(\u001b[0m\u001b[0mmain\u001b[0m\u001b[1;33m(\u001b[0m\u001b[0mphone\u001b[0m\u001b[1;33m)\u001b[0m\u001b[1;33m)\u001b[0m\u001b[1;33m\u001b[0m\u001b[1;33m\u001b[0m\u001b[0m\n\u001b[0;32m    173\u001b[0m \u001b[1;33m\u001b[0m\u001b[0m\n",
      "\u001b[1;32m~\\AppData\\Local\\Continuum\\anaconda3\\lib\\site-packages\\telethon\\helpers.py\u001b[0m in \u001b[0;36m_sync_enter\u001b[1;34m(self)\u001b[0m\n\u001b[0;32m    149\u001b[0m     \u001b[1;32mif\u001b[0m \u001b[0mloop\u001b[0m\u001b[1;33m.\u001b[0m\u001b[0mis_running\u001b[0m\u001b[1;33m(\u001b[0m\u001b[1;33m)\u001b[0m\u001b[1;33m:\u001b[0m\u001b[1;33m\u001b[0m\u001b[1;33m\u001b[0m\u001b[0m\n\u001b[0;32m    150\u001b[0m         raise RuntimeError(\n\u001b[1;32m--> 151\u001b[1;33m             \u001b[1;34m'You must use \"async with\" if the event loop '\u001b[0m\u001b[1;33m\u001b[0m\u001b[1;33m\u001b[0m\u001b[0m\n\u001b[0m\u001b[0;32m    152\u001b[0m             \u001b[1;34m'is running (i.e. you are inside an \"async def\")'\u001b[0m\u001b[1;33m\u001b[0m\u001b[1;33m\u001b[0m\u001b[0m\n\u001b[0;32m    153\u001b[0m         )\n",
      "\u001b[1;31mRuntimeError\u001b[0m: You must use \"async with\" if the event loop is running (i.e. you are inside an \"async def\")"
     ]
    }
   ],
   "source": [
    "import configparser\n",
    "import json\n",
    "import asyncio\n",
    "from datetime import date, datetime\n",
    "\n",
    "from telethon import TelegramClient\n",
    "from telethon.errors import SessionPasswordNeededError\n",
    "from telethon.tl.functions.messages import (GetHistoryRequest)\n",
    "from telethon.tl.types import (\n",
    "    PeerChannel\n",
    ")\n",
    "import numpy as np\n",
    "\n",
    "#########################################################################################################################################\n",
    "######################################################################################################################################\n",
    "# some functions to parse json date\n",
    "class DateTimeEncoder(json.JSONEncoder):\n",
    "    def default(self, o):\n",
    "        if isinstance(o, datetime):\n",
    "            return o.isoformat()\n",
    "\n",
    "        if isinstance(o, bytes):\n",
    "            return list(o)\n",
    "\n",
    "        return json.JSONEncoder.default(self, o)\n",
    "\n",
    "\n",
    "def deEmojify(inputString):\n",
    "    return inputString.encode('ascii', 'ignore').decode('ascii')\n",
    "\n",
    "#FUNCTION TO ENCODE BUY AND SELL\n",
    "def orderTypeEncode(string):\n",
    "    if string == 'BUY':\n",
    "        return 0\n",
    "    elif string == \"SELL\":\n",
    "        return 1\n",
    "\n",
    "#FUNCTION TO CONVERT PRICE TO POINTS\n",
    "def priceToPoints(entry,another,symbol):\n",
    "    if 'JPY' in symbol:\n",
    "        point_value = 0.001\n",
    "    else:\n",
    "        point_value = 0.00001\n",
    "    return np.int(np.abs(another-entry) / point_value)\n",
    " \n",
    "def text_to_tradedict(text):\n",
    "\n",
    "    symbol = text.split()[0]\n",
    "    entry = float(deEmojify(text.split()[3]))\n",
    "    SL = float(deEmojify(text.split()[5]))\n",
    "    TP1 = float(deEmojify(text.split()[7]))\n",
    "    TP2 = float(deEmojify(text.split()[9]))\n",
    "    TP3 = float(deEmojify(text.split()[11]))\n",
    "\n",
    "    my_trade1 = {}\n",
    "    my_trade1['_action'] = 'OPEN'\n",
    "    my_trade1['_type'] = orderTypeEncode(text.split()[1])\n",
    "    my_trade1['_symbol'] = symbol\n",
    "    my_trade1['_price'] = 0.0\n",
    "    my_trade1['_SL'] = priceToPoints(entry,SL,symbol)\n",
    "    my_trade1['_TP'] = priceToPoints(entry,TP1,symbol)\n",
    "    my_trade1['_lots'] = 0.01\n",
    "    my_trade1['_magic']= 123456\n",
    "    my_trade1['_ticket']= 0\n",
    "\n",
    "    my_trade2 = {}\n",
    "    my_trade2['_action'] = 'OPEN'\n",
    "    my_trade2['_type'] = orderTypeEncode(text.split()[1])\n",
    "    my_trade2['_symbol'] = symbol\n",
    "    my_trade2['_price'] = 0.0\n",
    "    my_trade2['_SL'] = priceToPoints(entry,SL,symbol)\n",
    "    my_trade2['_TP'] = priceToPoints(entry,TP2,symbol)\n",
    "    my_trade2['_lots'] = 0.01\n",
    "    my_trade2['_magic']= 123456\n",
    "    my_trade2['_ticket']= 0\n",
    "\n",
    "    my_trade3 = {}\n",
    "    my_trade3['_action'] = 'OPEN'\n",
    "    my_trade3['_type'] = orderTypeEncode(text.split()[1])\n",
    "    my_trade3['_symbol'] = symbol\n",
    "    my_trade3['_price'] = 0.0\n",
    "    my_trade3['_SL'] = priceToPoints(entry,SL,symbol)\n",
    "    my_trade3['_TP'] = priceToPoints(entry,TP3,symbol)\n",
    "    my_trade3['_lots'] = 0.01\n",
    "    my_trade3['_magic']= 123456\n",
    "    my_trade3['_ticket']= 0\n",
    "\n",
    "    return [my_trade1,my_trade2,my_trade3]\n",
    "\n",
    "#############################################################################################################\n",
    "#############################################################################################################\n",
    "# Reading Configs\n",
    "config = configparser.ConfigParser()\n",
    "config.read(\"config.ini\")\n",
    "\n",
    "# Setting configuration values\n",
    "api_id = config['Telegram']['api_id']\n",
    "api_hash = config['Telegram']['api_hash']\n",
    "\n",
    "api_hash = str(api_hash)\n",
    "\n",
    "phone = config['Telegram']['phone']\n",
    "username = config['Telegram']['username']\n",
    "\n",
    "# Create the client and connect\n",
    "client = TelegramClient(username, api_id, api_hash)\n",
    "\n",
    "\n",
    "\n",
    "async def main(phone):\n",
    "    await client.start()\n",
    "    print(\"Client Created\")\n",
    "    # Ensure you're authorized\n",
    "    if await client.is_user_authorized() == False:\n",
    "        await client.send_code_request(phone)\n",
    "        try:\n",
    "            await client.sign_in(phone, input('Enter the code: '))\n",
    "        except SessionPasswordNeededError:\n",
    "            await client.sign_in(password=input('Password: '))\n",
    "\n",
    "    me = await client.get_me()\n",
    "\n",
    "    user_input_channel = input('enter entity(telegram URL or entity id):')\n",
    "\n",
    "    if user_input_channel.isdigit():\n",
    "        entity = PeerChannel(int(user_input_channel))\n",
    "    else:\n",
    "        entity = user_input_channel\n",
    "\n",
    "    my_channel = await client.get_entity(entity)\n",
    "\n",
    "    offset_id = 0\n",
    "    limit = 1\n",
    "    all_messages = []\n",
    "    total_messages = 0\n",
    "    total_count_limit = 1\n",
    "\n",
    "    while True:\n",
    "        print(\"Current Offset ID is:\", offset_id, \"; Total Messages:\", total_messages)\n",
    "        history = await client(GetHistoryRequest(\n",
    "            peer=my_channel,\n",
    "            offset_id=offset_id,\n",
    "            offset_date=None,\n",
    "            add_offset=0,\n",
    "            limit=limit,\n",
    "            max_id=0,\n",
    "            min_id=0,\n",
    "            hash=0\n",
    "        ))\n",
    "        if not history.messages:\n",
    "            break\n",
    "        messages = history.messages\n",
    "        for message in messages:\n",
    "            all_messages.append(message.to_dict())\n",
    "        offset_id = messages[len(messages) - 1].id\n",
    "        total_messages = len(all_messages)\n",
    "        if total_count_limit != 0 and total_messages >= total_count_limit:\n",
    "            break\n",
    "\n",
    "    #with open('channel_messages.json', 'w') as outfile:\n",
    "        #json.dump(all_messages, outfile, cls=DateTimeEncoder)\n",
    "    #print(all_messages)\n",
    "    latest_message_text = all_messages[0]['message']\n",
    "    trade_dict_list = text_to_tradedict(latest_message_text)\n",
    "    return trade_dict_list\n",
    "\n",
    "\n",
    "\n",
    "\n",
    "####################################################################################\n",
    "with client:\n",
    "    everymess = client.loop.run_until_complete(main(phone))\n",
    "    \n",
    "    print('here is everymess variable')\n",
    "    print(everymess)\n",
    "    \n"
   ]
  },
  {
   "cell_type": "code",
   "execution_count": 2,
   "metadata": {},
   "outputs": [],
   "source": [
    "import json\n",
    "with open(\"channel_messages.json\") as read_file:\n",
    "    all_messages = json.load(read_file) #all_messages\n",
    "    \n",
    "    \n",
    "    "
   ]
  },
  {
   "cell_type": "code",
   "execution_count": 4,
   "metadata": {},
   "outputs": [
    {
     "data": {
      "text/plain": [
       "3"
      ]
     },
     "execution_count": 4,
     "metadata": {},
     "output_type": "execute_result"
    }
   ],
   "source": [
    "all_messages[0]['id']"
   ]
  },
  {
   "cell_type": "code",
   "execution_count": 19,
   "metadata": {},
   "outputs": [
    {
     "data": {
      "text/plain": [
       "True"
      ]
     },
     "execution_count": 19,
     "metadata": {},
     "output_type": "execute_result"
    }
   ],
   "source": [
    "'BUY' in all_messages[0]['message']"
   ]
  },
  {
   "cell_type": "code",
   "execution_count": 13,
   "metadata": {},
   "outputs": [
    {
     "data": {
      "text/plain": [
       "{'_': 'Message',\n",
       " 'id': 3,\n",
       " 'to_id': {'_': 'PeerChannel', 'channel_id': 1475238870},\n",
       " 'date': '2020-04-07T00:29:03+00:00',\n",
       " 'message': 'GBPJPY BUY\\n\\nENTRY 134.18📍\\n\\nSL 133.72❌\\n\\nTP 134.38✅\\nTP 134.68✅\\nTP 135.18✅',\n",
       " 'out': True,\n",
       " 'mentioned': False,\n",
       " 'media_unread': False,\n",
       " 'silent': False,\n",
       " 'post': True,\n",
       " 'from_scheduled': False,\n",
       " 'legacy': False,\n",
       " 'edit_hide': False,\n",
       " 'from_id': None,\n",
       " 'fwd_from': None,\n",
       " 'via_bot_id': None,\n",
       " 'reply_to_msg_id': None,\n",
       " 'media': None,\n",
       " 'reply_markup': None,\n",
       " 'entities': [],\n",
       " 'views': 6,\n",
       " 'edit_date': None,\n",
       " 'post_author': None,\n",
       " 'grouped_id': None,\n",
       " 'restriction_reason': []}"
      ]
     },
     "execution_count": 13,
     "metadata": {},
     "output_type": "execute_result"
    }
   ],
   "source": [
    "all_messages[0]['_'] == \"Message\" #type = message\n",
    "and 5 <= len(all_messages[0]['message'].split()[0]) <= 6 #first word length between 5 and 6\n",
    "and ('BUY' in all_messages[0]['message'] or #message containing buy or sell\n",
    "    'SELL' in all_messages[0]['message'])\n",
    "\n"
   ]
  },
  {
   "cell_type": "code",
   "execution_count": 20,
   "metadata": {},
   "outputs": [
    {
     "data": {
      "text/plain": [
       "True"
      ]
     },
     "execution_count": 20,
     "metadata": {},
     "output_type": "execute_result"
    }
   ],
   "source": [
    "all_messages[0]['_'] == \"Message\""
   ]
  }
 ],
 "metadata": {
  "kernelspec": {
   "display_name": "Python 3",
   "language": "python",
   "name": "python3"
  },
  "language_info": {
   "codemirror_mode": {
    "name": "ipython",
    "version": 3
   },
   "file_extension": ".py",
   "mimetype": "text/x-python",
   "name": "python",
   "nbconvert_exporter": "python",
   "pygments_lexer": "ipython3",
   "version": "3.7.4"
  }
 },
 "nbformat": 4,
 "nbformat_minor": 2
}
